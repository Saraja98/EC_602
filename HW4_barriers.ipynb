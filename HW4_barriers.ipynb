{
 "cells": [
  {
   "cell_type": "code",
   "execution_count": 2,
   "metadata": {},
   "outputs": [
    {
     "name": "stdout",
     "output_type": "stream",
     "text": [
      "['a', 'b', 'c', 'd']\n",
      "4\n",
      "2\n",
      "['a', 'b']\n",
      "[['a', 'b']]\n",
      "['c', 'd']\n",
      "[['a', 'b'], ['c', 'd']]\n"
     ]
    }
   ],
   "source": [
    "#breaking up guests into separate \"panels\"\n",
    "guests = \"abcd\"\n",
    "barriers = [2]\n",
    "li = list(guests)\n",
    "print(li)\n",
    "num_guests = len(li)\n",
    "print(num_guests)\n",
    "b_loc = barriers[0]  #finds point where to break up guest list\n",
    "print(b_loc)\n",
    "# sets up loop to break up guest list\n",
    "start = 0\n",
    "end = num_guests\n",
    "step = b_loc\n",
    "sep_panels = [] #creates empty list to store separated panels\n",
    "for i in range(start, end, step):\n",
    "    x = i\n",
    "    sep = li[x:x+step]\n",
    "    print(sep)\n",
    "    sep_panels.append(sep) #puts separated panels into a list\n",
    "    print(sep_panels)\n",
    "for item in sep_panels:\n",
    "\n",
    "    \n"
   ]
  }
 ],
 "metadata": {
  "kernelspec": {
   "display_name": "Python 3.9.12 ('base')",
   "language": "python",
   "name": "python3"
  },
  "language_info": {
   "codemirror_mode": {
    "name": "ipython",
    "version": 3
   },
   "file_extension": ".py",
   "mimetype": "text/x-python",
   "name": "python",
   "nbconvert_exporter": "python",
   "pygments_lexer": "ipython3",
   "version": "3.9.12"
  },
  "orig_nbformat": 4,
  "vscode": {
   "interpreter": {
    "hash": "c575168961fc2b43d0095fd36529aa365e385babdbea041111506e999cf4a810"
   }
  }
 },
 "nbformat": 4,
 "nbformat_minor": 2
}
