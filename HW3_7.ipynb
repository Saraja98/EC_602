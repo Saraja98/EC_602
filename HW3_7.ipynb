{
 "cells": [
  {
   "cell_type": "code",
   "execution_count": 13,
   "metadata": {},
   "outputs": [
    {
     "name": "stdout",
     "output_type": "stream",
     "text": [
      "[4, 2, 1]\n",
      "[4, 2, 3]\n",
      "[(4, 4), (2, 2), (3, 1)]\n",
      "[16, 4, 3]\n",
      "23\n"
     ]
    }
   ],
   "source": [
    "#eval\n",
    "\n",
    "\n",
    "p = {2: 4, 1: 2, 0: 3}\n",
    "x = 2\n",
    "x_raised = []\n",
    "for key in p:\n",
    "    pow = x**key\n",
    "    x_raised.append(pow)\n",
    "print(x_raised)\n",
    "coeff_list = list(p.values())\n",
    "print(coeff_list)\n",
    "res = list(zip(coeff_list, x_raised))\n",
    "print(res)\n",
    "term_list = []\n",
    "for elem in res:\n",
    "    term_mult = elem[0]*elem[1]\n",
    "    term_list.append(term_mult)\n",
    "print(term_list)\n",
    "print(sum(term_list))\n",
    "\n",
    "    "
   ]
  }
 ],
 "metadata": {
  "kernelspec": {
   "display_name": "Python 3.9.12 ('base')",
   "language": "python",
   "name": "python3"
  },
  "language_info": {
   "codemirror_mode": {
    "name": "ipython",
    "version": 3
   },
   "file_extension": ".py",
   "mimetype": "text/x-python",
   "name": "python",
   "nbconvert_exporter": "python",
   "pygments_lexer": "ipython3",
   "version": "3.9.12"
  },
  "orig_nbformat": 4,
  "vscode": {
   "interpreter": {
    "hash": "c575168961fc2b43d0095fd36529aa365e385babdbea041111506e999cf4a810"
   }
  }
 },
 "nbformat": 4,
 "nbformat_minor": 2
}
