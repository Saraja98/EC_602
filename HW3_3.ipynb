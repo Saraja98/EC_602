{
 "cells": [
  {
   "cell_type": "code",
   "execution_count": 2,
   "metadata": {},
   "outputs": [
    {
     "name": "stdout",
     "output_type": "stream",
     "text": [
      "This is p1 coeffs [4, 3]\n",
      "This is p1 exp [2, 1]\n",
      "This is p2 coeffs [5, 2]\n",
      "This is p2 exp [2, 1]\n",
      "[20, 8, 15, 6]\n",
      "[4, 3, 3, 2]\n",
      "{4: 20, 3: 15, 2: 6}\n"
     ]
    }
   ],
   "source": [
    "#multiplication\n",
    "\n",
    "\n",
    "p1 = {2: 4, 1: 3 }\n",
    "p2 = {2: 5, 1: 2}\n",
    "#make a third dictionary: {0,a,b,c,d}\n",
    "# def mult(p1,p2):\n",
    "\n",
    "p1_coeffs = list(p1.values())\n",
    "print(\"This is p1 coeffs\", p1_coeffs)\n",
    "p1_exp = list(p1.keys())\n",
    "print(\"This is p1 exp\", p1_exp)\n",
    "p2_coeffs = list(p2.values())\n",
    "print(\"This is p2 coeffs\",p2_coeffs)\n",
    "p2_exp = list(p2.keys())\n",
    "print(\"This is p2 exp\", p2_exp)\n",
    "\n",
    "coeffs_prod = []\n",
    "exp_sum = []\n",
    "\n",
    "for item in p1_coeffs:\n",
    "    x = item * p2_coeffs[0]\n",
    "    y = item * p2_coeffs[1]\n",
    "    coeffs_prod.append(x)\n",
    "    coeffs_prod.append(y)\n",
    "for item in p1_exp:\n",
    "    a = item + p2_exp[0]\n",
    "    b = item + p2_exp[1]\n",
    "    exp_sum.append(a)\n",
    "    exp_sum.append(b)\n",
    "\n",
    "    \n",
    "print(coeffs_prod)\n",
    "print(exp_sum)\n",
    "\n",
    "dictionary = dict(zip(exp_sum, coeffs_prod)) #only will skip one of the values in exp_sum because both values are the same!!!\n",
    "print(dictionary)\n",
    "\n",
    "\n",
    "\n",
    "\n",
    "\n",
    "\n",
    "\n",
    "\n"
   ]
  }
 ],
 "metadata": {
  "kernelspec": {
   "display_name": "Python 3.9.12 ('base')",
   "language": "python",
   "name": "python3"
  },
  "language_info": {
   "codemirror_mode": {
    "name": "ipython",
    "version": 3
   },
   "file_extension": ".py",
   "mimetype": "text/x-python",
   "name": "python",
   "nbconvert_exporter": "python",
   "pygments_lexer": "ipython3",
   "version": "3.9.12"
  },
  "orig_nbformat": 4,
  "vscode": {
   "interpreter": {
    "hash": "c575168961fc2b43d0095fd36529aa365e385babdbea041111506e999cf4a810"
   }
  }
 },
 "nbformat": 4,
 "nbformat_minor": 2
}
