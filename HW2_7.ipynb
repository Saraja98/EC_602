{
 "cells": [
  {
   "cell_type": "code",
   "execution_count": 7,
   "metadata": {},
   "outputs": [
    {
     "ename": "TypeError",
     "evalue": "choose a float",
     "output_type": "error",
     "traceback": [
      "\u001b[1;31m---------------------------------------------------------------------------\u001b[0m",
      "\u001b[1;31mTypeError\u001b[0m                                 Traceback (most recent call last)",
      "\u001b[1;32mc:\\Users\\shann\\Desktop\\602\\HW2_7.ipynb Cell 1\u001b[0m in \u001b[0;36m<cell line: 5>\u001b[1;34m()\u001b[0m\n\u001b[0;32m      <a href='vscode-notebook-cell:/c%3A/Users/shann/Desktop/602/HW2_7.ipynb#W0sZmlsZQ%3D%3D?line=3'>4</a>\u001b[0m \u001b[39m#index = input(\"enter an index, default 1\")\u001b[39;00m\n\u001b[0;32m      <a href='vscode-notebook-cell:/c%3A/Users/shann/Desktop/602/HW2_7.ipynb#W0sZmlsZQ%3D%3D?line=4'>5</a>\u001b[0m \u001b[39mif\u001b[39;00m \u001b[39mnot\u001b[39;00m start_float \u001b[39mis\u001b[39;00m np\u001b[39m.\u001b[39mfloat32():\n\u001b[1;32m----> <a href='vscode-notebook-cell:/c%3A/Users/shann/Desktop/602/HW2_7.ipynb#W0sZmlsZQ%3D%3D?line=5'>6</a>\u001b[0m     \u001b[39mraise\u001b[39;00m \u001b[39mTypeError\u001b[39;00m(\u001b[39m\"\u001b[39m\u001b[39mchoose a float\u001b[39m\u001b[39m\"\u001b[39m)\n\u001b[0;32m      <a href='vscode-notebook-cell:/c%3A/Users/shann/Desktop/602/HW2_7.ipynb#W0sZmlsZQ%3D%3D?line=6'>7</a>\u001b[0m \u001b[39mif\u001b[39;00m index \u001b[39m<\u001b[39m \u001b[39m0\u001b[39m:\n\u001b[0;32m      <a href='vscode-notebook-cell:/c%3A/Users/shann/Desktop/602/HW2_7.ipynb#W0sZmlsZQ%3D%3D?line=7'>8</a>\u001b[0m     \u001b[39mraise\u001b[39;00m \u001b[39mValueError\u001b[39;00m(\u001b[39m\"\u001b[39m\u001b[39mindex must be positive\u001b[39m\u001b[39m\"\u001b[39m)\n",
      "\u001b[1;31mTypeError\u001b[0m: choose a float"
     ]
    }
   ],
   "source": [
    "import numpy as np\n",
    "def get_next_float(start_float, /, *, index):\n",
    "    start_float = np.float32(2.5)\n",
    "    index = input(2)\n",
    "if not start_float is np.float32:\n",
    "    raise TypeError(\"choose a float\")\n",
    "if index < 0:\n",
    "    raise ValueError(\"index must be positive\")\n",
    "if not index is np.intx or int:\n",
    "    raise TypeError(\"index must be integer\")\n",
    "    \n",
    "binary1 = bin(start_float)\n",
    "print(binary1)\n",
    "\n",
    "\n",
    "    \n",
    "        \n",
    "\n"
   ]
  },
  {
   "cell_type": "code",
   "execution_count": 34,
   "metadata": {},
   "outputs": [
    {
     "name": "stdout",
     "output_type": "stream",
     "text": [
      "2.5000000000000004\n",
      "2.5000000000000004\n",
      "2.5000000000000004\n"
     ]
    }
   ],
   "source": [
    "#testing the code without the exceptions\n",
    "\n",
    "start_float = np.float64(2.5)\n",
    "barray = start_float.tobytes() #is this necessary?\n",
    "#finding next value (index=1)\n",
    "#put this in a loop to repeat number of index times?\n",
    "index = int(3)\n",
    "index_range = range(1,index+1)\n",
    "for i in index_range:\n",
    "    #value_list = []\n",
    "    x = float.fromhex('0x1.fffffffffffffp-1') #gives exact scaling factor\n",
    "    next_value = start_float / (x)\n",
    "    print(next_value)\n",
    "    #want next_value to be the starting value for the next iteration of the loop\n",
    "if not next_value is float:\n",
    "        return \"positive infinity\" #need to correct placement\n",
    "\n",
    "#other tests\n",
    "\n",
    "integer_form = int.from_bytes(barray,byteorder = 'little')\n",
    "binary_form = bin(integer_form)\n",
    "#print(binary_form)\n",
    "binary_list_1 = list(binary_form) #might not be necessary\n",
    "binary_list_2 = list(binary_form.split()) #might not be necessary\n",
    "\n",
    "#print(binary_list_1)\n",
    "#print(binary_list_2)\n",
    "#print(len(binary_list_1))\n",
    "\n",
    "\n",
    "\n",
    "\n"
   ]
  }
 ],
 "metadata": {
  "kernelspec": {
   "display_name": "Python 3.9.12 ('base')",
   "language": "python",
   "name": "python3"
  },
  "language_info": {
   "codemirror_mode": {
    "name": "ipython",
    "version": 3
   },
   "file_extension": ".py",
   "mimetype": "text/x-python",
   "name": "python",
   "nbconvert_exporter": "python",
   "pygments_lexer": "ipython3",
   "version": "3.9.12"
  },
  "orig_nbformat": 4,
  "vscode": {
   "interpreter": {
    "hash": "c575168961fc2b43d0095fd36529aa365e385babdbea041111506e999cf4a810"
   }
  }
 },
 "nbformat": 4,
 "nbformat_minor": 2
}
