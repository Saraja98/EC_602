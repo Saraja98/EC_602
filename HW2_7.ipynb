{
 "cells": [
  {
   "cell_type": "code",
   "execution_count": 162,
   "metadata": {},
   "outputs": [
    {
     "data": {
      "text/plain": [
       "(2.5000000000000013, numpy.float64)"
      ]
     },
     "execution_count": 162,
     "metadata": {},
     "output_type": "execute_result"
    }
   ],
   "source": [
    "#exceptions and defining code\n",
    "\n",
    "import numpy as np\n",
    "import math\n",
    "def get_next_float(start_float, index):\n",
    "    \n",
    "    if type(start_float)==np.float32 or (type(start_float)==np.float64) or (type(start_float)==np.float16) or (type(start_float)==float):\n",
    "        pass\n",
    "    else:\n",
    "        raise TypeError(\"choose a float\")\n",
    "    if (index < 0):\n",
    "        raise ValueError(\"index must be positive\")\n",
    "    elif type(index) is int:\n",
    "        pass\n",
    "    else:\n",
    "        raise TypeError(\"index must be integer\")\n",
    "    start_var = start_float\n",
    "    index_range = range(0,index)\n",
    "    value_list = []\n",
    "    value_list.append(start_var)\n",
    "    x = float.fromhex('0x1.fffffffffffffp-1') #gives exact scaling factor for float64\n",
    "    for i in index_range:\n",
    "        next_value = np.nextafter(value_list[i],math.inf)\n",
    "        #next_value = value_list[i]/ (x)\n",
    "        value_list.append(next_value)\n",
    "    #print(value_list)\n",
    "    last = value_list[-1]\n",
    "    #print(last, type(last))\n",
    "    \n",
    "\n",
    "    if  (type(next_value) is np.float64) or (type(next_value) is np.float32) or (type(next_value) is np.float16):\n",
    "        pass\n",
    "    else:\n",
    "        (\"infinity\") \n",
    "    return last, type(last)\n",
    "\n",
    "\n",
    "\n",
    "#start_float = input(\"input a float\")\n",
    "#index = input(\"input an index\")\n",
    "get_next_float(np.float64(2.5), index=int(3))\n",
    "\n",
    "\n",
    "\n",
    "\n",
    "\n",
    "\n",
    "\n",
    "    \n",
    "        \n",
    "\n"
   ]
  }
 ],
 "metadata": {
  "kernelspec": {
   "display_name": "Python 3.9.12 ('base')",
   "language": "python",
   "name": "python3"
  },
  "language_info": {
   "codemirror_mode": {
    "name": "ipython",
    "version": 3
   },
   "file_extension": ".py",
   "mimetype": "text/x-python",
   "name": "python",
   "nbconvert_exporter": "python",
   "pygments_lexer": "ipython3",
   "version": "3.9.12"
  },
  "orig_nbformat": 4,
  "vscode": {
   "interpreter": {
    "hash": "c575168961fc2b43d0095fd36529aa365e385babdbea041111506e999cf4a810"
   }
  }
 },
 "nbformat": 4,
 "nbformat_minor": 2
}
